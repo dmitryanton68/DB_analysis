{
 "cells": [
  {
   "cell_type": "markdown",
   "metadata": {},
   "source": [
    "### Практическое задание по клиентской аналитике\n",
    "(итоговые данные можно предоставить в документе ворд или pdf, сильно расписывать не надо, просто выводы по пунктам)\n",
    "\n",
    "Действия:\n",
    "1. Залить в свою БД данные по продажам (часть таблицы Orders в csv, исходник здесь https://drive.google.com/drive/folders/1C3HqIJcABblKM2tz8vPGiXTFT7MisrML?usp=sharing )\n",
    "2. Проанализировать, какой период данных выгружен\n",
    "3. Посчитать кол-во строк, кол-во заказов и кол-во уникальных пользователей, кот совершали заказы.\n",
    "4. По годам посчитать средний чек, среднее кол-во заказов на пользователя, сделать вывод , как изменялись это показатели Год от года.\n",
    "5. Найти кол-во пользователей, кот покупали в одном году и перестали покупать в следующем.\n",
    "6. Найти ID самого активного по кол-ву покупок пользователя."
   ]
  },
  {
   "cell_type": "code",
   "execution_count": 1,
   "metadata": {},
   "outputs": [],
   "source": [
    "import numpy as np\n",
    "import pandas as pd\n",
    "import matplotlib.pyplot as plt\n",
    "import seaborn as sns\n",
    "\n",
    "%matplotlib inline\n",
    "%config InlineBackend.figure_format = 'svg'"
   ]
  },
  {
   "cell_type": "code",
   "execution_count": 2,
   "metadata": {},
   "outputs": [
    {
     "name": "stdout",
     "output_type": "stream",
     "text": [
      "Первоначальное количество строк = 2002804\n"
     ]
    }
   ],
   "source": [
    "orders = pd.read_csv('orders_20190822.csv', sep=';')\n",
    "a = orders.shape[0]\n",
    "print(f'Первоначальное количество строк = {a}')"
   ]
  },
  {
   "cell_type": "markdown",
   "metadata": {},
   "source": [
    "Конвертация данных"
   ]
  },
  {
   "cell_type": "code",
   "execution_count": 3,
   "metadata": {},
   "outputs": [],
   "source": [
    "def convert_data(data):\n",
    "    new_data = data.replace(',','.')\n",
    "    return float(new_data)"
   ]
  },
  {
   "cell_type": "code",
   "execution_count": 4,
   "metadata": {},
   "outputs": [],
   "source": [
    "orders['price'] = orders['price'].apply(convert_data)"
   ]
  },
  {
   "cell_type": "code",
   "execution_count": 5,
   "metadata": {},
   "outputs": [],
   "source": [
    "orders['o_date'] = pd.to_datetime(pd.Series(orders['o_date']), format=\"%d.%m.%Y\")"
   ]
  },
  {
   "cell_type": "markdown",
   "metadata": {},
   "source": [
    "Убираем строки с неположительной и слишком большой ценой"
   ]
  },
  {
   "cell_type": "code",
   "execution_count": 6,
   "metadata": {},
   "outputs": [],
   "source": [
    "negative_list = orders.loc[(orders['price'] <= 0)|(orders['price'] > 100000)]\n",
    "orders = orders.drop(negative_list.index, axis = 0)"
   ]
  },
  {
   "cell_type": "markdown",
   "metadata": {},
   "source": [
    "##### 1. Проанализировать, какой период данных выгружен"
   ]
  },
  {
   "cell_type": "code",
   "execution_count": 7,
   "metadata": {},
   "outputs": [
    {
     "data": {
      "text/plain": [
       "(Timestamp('2017-12-31 00:00:00'), Timestamp('2016-01-01 00:00:00'))"
      ]
     },
     "execution_count": 7,
     "metadata": {},
     "output_type": "execute_result"
    }
   ],
   "source": [
    "orders['o_date'].max(), orders['o_date'].min()"
   ]
  },
  {
   "cell_type": "markdown",
   "metadata": {},
   "source": [
    "##### 2. Посчитать кол-во строк, кол-во заказов и кол-во уникальных пользователей, кот совершали заказы."
   ]
  },
  {
   "cell_type": "code",
   "execution_count": 8,
   "metadata": {},
   "outputs": [
    {
     "name": "stdout",
     "output_type": "stream",
     "text": [
      "Количество строк после удаления некорректных = 2002696\n"
     ]
    }
   ],
   "source": [
    "b = orders.shape[0]\n",
    "print(f'Количество строк после удаления некорректных = {b}')"
   ]
  },
  {
   "cell_type": "code",
   "execution_count": 9,
   "metadata": {},
   "outputs": [
    {
     "name": "stdout",
     "output_type": "stream",
     "text": [
      "После того, как были убраны строки с неположительной и слишком большой ценой количество строк сократилось на 108\n"
     ]
    }
   ],
   "source": [
    "print(f'После того, как были убраны строки с неположительной и слишком большой ценой количество строк сократилось на {a - b}')"
   ]
  },
  {
   "cell_type": "code",
   "execution_count": 10,
   "metadata": {},
   "outputs": [
    {
     "data": {
      "text/plain": [
       "2002696"
      ]
     },
     "execution_count": 10,
     "metadata": {},
     "output_type": "execute_result"
    }
   ],
   "source": [
    "number_of_orders = orders['id_o'].unique()\n",
    "len(number_of_orders)"
   ]
  },
  {
   "cell_type": "code",
   "execution_count": 11,
   "metadata": {},
   "outputs": [
    {
     "data": {
      "text/plain": [
       "1015088"
      ]
     },
     "execution_count": 11,
     "metadata": {},
     "output_type": "execute_result"
    }
   ],
   "source": [
    "number_of_users = orders['user_id'].unique()\n",
    "len(number_of_users)"
   ]
  },
  {
   "cell_type": "markdown",
   "metadata": {},
   "source": [
    "##### 3. По годам посчитать средний чек, среднее кол-во заказов на пользователя, сделать вывод , как изменялись это показатели Год от года."
   ]
  },
  {
   "cell_type": "code",
   "execution_count": 12,
   "metadata": {},
   "outputs": [
    {
     "data": {
      "text/html": [
       "<div>\n",
       "<style scoped>\n",
       "    .dataframe tbody tr th:only-of-type {\n",
       "        vertical-align: middle;\n",
       "    }\n",
       "\n",
       "    .dataframe tbody tr th {\n",
       "        vertical-align: top;\n",
       "    }\n",
       "\n",
       "    .dataframe thead th {\n",
       "        text-align: right;\n",
       "    }\n",
       "</style>\n",
       "<table border=\"1\" class=\"dataframe\">\n",
       "  <thead>\n",
       "    <tr style=\"text-align: right;\">\n",
       "      <th></th>\n",
       "      <th>mean_price</th>\n",
       "    </tr>\n",
       "  </thead>\n",
       "  <tbody>\n",
       "    <tr>\n",
       "      <th>0</th>\n",
       "      <td>2090.294426</td>\n",
       "    </tr>\n",
       "    <tr>\n",
       "      <th>1</th>\n",
       "      <td>2392.783860</td>\n",
       "    </tr>\n",
       "  </tbody>\n",
       "</table>\n",
       "</div>"
      ],
      "text/plain": [
       "    mean_price\n",
       "0  2090.294426\n",
       "1  2392.783860"
      ]
     },
     "execution_count": 12,
     "metadata": {},
     "output_type": "execute_result"
    }
   ],
   "source": [
    "mean_order = orders.groupby(orders['o_date'].dt.year, as_index=False)[['price']].mean().rename(columns={'price':'mean_price'})\n",
    "mean_order"
   ]
  },
  {
   "cell_type": "code",
   "execution_count": 13,
   "metadata": {},
   "outputs": [
    {
     "data": {
      "text/plain": [
       "(1.935104238984639, 1.742957402362599)"
      ]
     },
     "execution_count": 13,
     "metadata": {},
     "output_type": "execute_result"
    }
   ],
   "source": [
    "users_2016 = orders.loc[orders['o_date'].dt.year == 2016, 'user_id'].values\n",
    "unique_users_2016 = orders.loc[orders['o_date'].dt.year == 2016, 'user_id'].unique()\n",
    "order_per_user_2016 = len(users_2016) / len(unique_users_2016)\n",
    "\n",
    "users_2017 = orders.loc[orders['o_date'].dt.year == 2017, 'user_id'].values\n",
    "unique_users_2017 = orders.loc[orders['o_date'].dt.year == 2017, 'user_id'].unique()\n",
    "order_per_user_2017 = len(users_2017) / len(unique_users_2017)\n",
    "\n",
    "order_per_user_2016, order_per_user_2017"
   ]
  },
  {
   "cell_type": "markdown",
   "metadata": {},
   "source": [
    "##### Вывод:\n",
    "средний чек вырос с 2090 руб. в 2016 г. до 2393 руб. в 2017 г.,\n",
    "среднее количество заказов на покупателя упало с 1,93 в 2016 г. до 1,74 в 2017 г."
   ]
  },
  {
   "cell_type": "markdown",
   "metadata": {},
   "source": [
    "##### 4. Найти кол-во пользователей, кот покупали в одном году и перестали покупать в следующем."
   ]
  },
  {
   "cell_type": "code",
   "execution_count": 14,
   "metadata": {},
   "outputs": [
    {
     "data": {
      "text/plain": [
       "360216"
      ]
     },
     "execution_count": 14,
     "metadata": {},
     "output_type": "execute_result"
    }
   ],
   "source": [
    "ex_users = []\n",
    "for i in unique_users_2016:\n",
    "    if i not in unique_users_2017:\n",
    "        ex_users.append(i)\n",
    "len(ex_users)"
   ]
  },
  {
   "cell_type": "markdown",
   "metadata": {},
   "source": [
    "##### 5.Найти ID самого активного по кол-ву покупок пользователя."
   ]
  },
  {
   "cell_type": "markdown",
   "metadata": {},
   "source": [
    "#### К сожалению, на всей БД из более чем 2 млн.строк мой компьютер исполнение кода не потянул даже за несколько часов, поэтому специально вырезаю из исходного более короткий датафрейм на 100 тыс. строк и отрабатываю на нём."
   ]
  },
  {
   "cell_type": "code",
   "execution_count": 18,
   "metadata": {},
   "outputs": [],
   "source": [
    "orders = orders[0:100000]"
   ]
  },
  {
   "cell_type": "code",
   "execution_count": 19,
   "metadata": {},
   "outputs": [
    {
     "data": {
      "text/plain": [
       "(65, 765861)"
      ]
     },
     "execution_count": 19,
     "metadata": {},
     "output_type": "execute_result"
    }
   ],
   "source": [
    "max_value = 1\n",
    "max_user_id = 1\n",
    "\n",
    "for i in orders['user_id']:\n",
    "    if (orders['user_id'] == i).sum() > max_value:\n",
    "        max_value = (orders['user_id'] == i).sum()\n",
    "        max_user_id = i\n",
    "        a = orders[orders['user_id'] == i].index\n",
    "        orders['user_id'].drop(a)\n",
    "    \n",
    "max_value, max_user_id"
   ]
  },
  {
   "cell_type": "code",
   "execution_count": 20,
   "metadata": {},
   "outputs": [
    {
     "name": "stdout",
     "output_type": "stream",
     "text": [
      "На выборке из первых 100000 строк победил user #765861, который произвёл 65 покупок.\n"
     ]
    }
   ],
   "source": [
    "print(f'На выборке из первых 100000 строк победил user #{max_user_id}, который произвёл {max_value} покупок.')"
   ]
  },
  {
   "cell_type": "code",
   "execution_count": null,
   "metadata": {},
   "outputs": [],
   "source": []
  }
 ],
 "metadata": {
  "kernelspec": {
   "display_name": "Python 3",
   "language": "python",
   "name": "python3"
  },
  "language_info": {
   "codemirror_mode": {
    "name": "ipython",
    "version": 3
   },
   "file_extension": ".py",
   "mimetype": "text/x-python",
   "name": "python",
   "nbconvert_exporter": "python",
   "pygments_lexer": "ipython3",
   "version": "3.7.1"
  }
 },
 "nbformat": 4,
 "nbformat_minor": 2
}
